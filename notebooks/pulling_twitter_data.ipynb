{
 "cells": [
  {
   "cell_type": "code",
   "execution_count": 3,
   "metadata": {
    "collapsed": true
   },
   "outputs": [],
   "source": [
    "import tweepy\n",
    "from tweepy import OAuthHandler\n",
    "import json"
   ]
  },
  {
   "cell_type": "code",
   "execution_count": 6,
   "metadata": {},
   "outputs": [],
   "source": [
    "with open('../twitter_creds.json') as t:\n",
    "    creds = json.load(t)"
   ]
  },
  {
   "cell_type": "code",
   "execution_count": 8,
   "metadata": {
    "collapsed": true
   },
   "outputs": [],
   "source": [
    "auth = OAuthHandler(creds['consumer_key'], creds['consumer_secret'])"
   ]
  },
  {
   "cell_type": "code",
   "execution_count": 9,
   "metadata": {
    "collapsed": true
   },
   "outputs": [],
   "source": [
    "auth.set_access_token(creds['access_token'], creds['access_secret'])"
   ]
  },
  {
   "cell_type": "code",
   "execution_count": 10,
   "metadata": {
    "collapsed": true
   },
   "outputs": [],
   "source": [
    "api = tweepy.API(auth)"
   ]
  },
  {
   "cell_type": "code",
   "execution_count": 11,
   "metadata": {},
   "outputs": [
    {
     "name": "stdout",
     "output_type": "stream",
     "text": [
      "Glad you finally figured it out, boss... https://t.co/RR7Bwagtz8\n",
      "RT @THR: George Clooney reveals what @BarackObama texts him: https://t.co/zNgzxCAbvm https://t.co/JQWtloVoU5\n",
      "RT @digvijaya_28: Shocking to see PM following such elements who are spreading hatred and venom which encourages such people to commit viol…\n",
      "RT @jagtaryadav: @republic @Swamy39 @DrKumarVishwas @myogiadityanath https://t.co/rW9tz5kH7P\n",
      "RT @sunetrac: In this article,. #GauriLankesh voices concern about how @malviyamit was using her case to warn other journos https://t.co/m7…\n",
      "RT @AbhinandanSekhr: You know we've fallen off a cliff when RSS \"ideologue\" won't condemn BJP leaders following abusive twitter handles &amp; i…\n",
      "Shocker. @RakeshSinha01 totally refused to condemn the reprehensible tweet by an account followed by PM,despite @Nidhi repeatedly asking him\n",
      "RT @CNBCnow: More: Read Fed Vice Chair Fischer's letter to President Trump informing him of his intended resignation. https://t.co/WJXw3g8U…\n",
      "RT @HuffPostIndia: Here’s the best investment tool—noise-cancelling headphones, by @cleartax_in https://t.co/Y6ITD1BDJ2 https://t.co/BzzHsB…\n",
      "Well done and good luck in your efforts @Shehzad_Ind ! #EndCowVigilantism https://t.co/xYaGWhXrIL\n"
     ]
    }
   ],
   "source": [
    "for status in tweepy.Cursor(api.home_timeline).items(10):\n",
    "    # Process a single status\n",
    "    print(status.text)"
   ]
  },
  {
   "cell_type": "markdown",
   "metadata": {},
   "source": [
    "# Functions"
   ]
  },
  {
   "cell_type": "code",
   "execution_count": 71,
   "metadata": {
    "collapsed": true
   },
   "outputs": [],
   "source": [
    "def geo_tweets(tweets):\n",
    "    for tweet in tweets:\n",
    "        if tweet.geo:\n",
    "            print tweet.text, tweet.geo['coordinates'], tweet.id\n",
    "#         else:\n",
    "#             print tweet.text, tweet.id\n",
    "            print '\\n'"
   ]
  },
  {
   "cell_type": "markdown",
   "metadata": {},
   "source": [
    "# Search"
   ]
  },
  {
   "cell_type": "code",
   "execution_count": 66,
   "metadata": {
    "collapsed": true
   },
   "outputs": [],
   "source": [
    "mta_tweets = api.search(q='@mta', count=500)\n",
    "geo_tweets(mta_tweets)"
   ]
  },
  {
   "cell_type": "code",
   "execution_count": 67,
   "metadata": {
    "collapsed": true
   },
   "outputs": [],
   "source": [
    "nyctsubway_tweets = api.search(q='@NYCTSubway', count=500)\n",
    "geo_tweets(nyctsubway_tweets)"
   ]
  },
  {
   "cell_type": "code",
   "execution_count": 68,
   "metadata": {
    "scrolled": false
   },
   "outputs": [],
   "source": [
    "nypd_tweets = api.search(q='#NYPD', count=500)\n",
    "geo_tweets(nypd_tweets)"
   ]
  },
  {
   "cell_type": "code",
   "execution_count": 69,
   "metadata": {},
   "outputs": [
    {
     "data": {
      "text/plain": [
       "0"
      ]
     },
     "execution_count": 69,
     "metadata": {},
     "output_type": "execute_result"
    }
   ],
   "source": [
    "sum([True if tweet.geo else False for tweet in mta_tweets+nyctsubway_tweets])"
   ]
  },
  {
   "cell_type": "code",
   "execution_count": 72,
   "metadata": {},
   "outputs": [
    {
     "name": "stdout",
     "output_type": "stream",
     "text": [
      "I'm at New York City - @nycgov in NY https://t.co/VOS979gkun [40.73008815, -73.98742676] 905369621649350656\n",
      "\n",
      "\n"
     ]
    }
   ],
   "source": [
    "nycgov_tweets = api.search(q='@nycgov', count=100)\n",
    "geo_tweets(nycgov_tweets)"
   ]
  },
  {
   "cell_type": "code",
   "execution_count": 38,
   "metadata": {},
   "outputs": [
    {
     "data": {
      "text/plain": [
       "100"
      ]
     },
     "execution_count": 38,
     "metadata": {},
     "output_type": "execute_result"
    }
   ],
   "source": [
    "len(mta_tweets)"
   ]
  },
  {
   "cell_type": "code",
   "execution_count": 46,
   "metadata": {
    "scrolled": false
   },
   "outputs": [
    {
     "name": "stdout",
     "output_type": "stream",
     "text": [
      "It astounds me how one train w/ mechanical issues can shut down service in BOTH directions. Y'all get on my nerves B @MTA\n",
      "RT @FastCoDesign: The secret design history of the @MTA https://t.co/rB5T6RbtYd https://t.co/sCSCDcL9ks\n",
      "RT @FastCoDesign: The secret design history of the @MTA https://t.co/rB5T6RbtYd https://t.co/sCSCDcL9ks\n",
      "RT @FastCoDesign: The secret design history of the @MTA https://t.co/rB5T6RbtYd https://t.co/sCSCDcL9ks\n",
      "The secret design history of the @MTA https://t.co/rB5T6RbtYd https://t.co/sCSCDcL9ks\n",
      "Yo turn the fucking air down! 🗣 @MTA\n",
      "@MTA 8205-1 - Union square - 11:31 - 6th av bound- subway driver near killed a wheelchair passenger closing the door repeatedly on them.\n",
      "RT @EthanHarpNews: Seriously, dude.  Just pick a seat. @MTA https://t.co/z5ZK10Y3ml\n",
      "Dead not a fighter. But @MTA come see me nigga. Dead ass.\n",
      "@MTA PLEASE EXPLAIN WHY THE FUCK I STUCK UNDERGROUND FOR AN HOUR AND AHALD JUST TO GO BACKWARDS!!GET YOUR SHIT TOGETHER 😤\n",
      "@NYCTSubway @MTA is there a way you guys can get sued if I lose my job ?\n",
      "Well thanks to @MTA @NYCTSubway , I was stuck between van wyck and Kew Gdns for an hour plus . This isn’t a joke\n",
      "@TrackScotty @MTA who the fuck was texting and walking? how about you get your FACTS straight before you fix your f… https://t.co/NEZqvTb1pN\n",
      "@MTA @NYGovCuomo Other metros—LA, SF, London—have hired Customer Exp teams and restructured to ensure accountabilit… https://t.co/yrmWPqhnE3\n",
      "@MTA @NYGovCuomo The organization of @MTA is fundamentally hostile to customer experience; result = communications… https://t.co/ciubgE7CwG\n",
      "@MTA @NYGovCuomo Can you imagine any other service with 6 million DAILY customers and no team empowered to consider… https://t.co/IBtbe3fUBZ\n",
      "Nothing demonstrates dire need for an empowered Customer Experience Officer at @MTA like the countdown clock debacl… https://t.co/C6Eu4OyCyc\n",
      "RT @SharedUseCntr: .@Citymapper is helping NYC users navigate @MTA delays w/ AI-driven route suggestions via @CityLab https://t.co/Q0N9XWUc…\n",
      "@russbengtson @MTA Damn it Russ, didn't know your face til i saw u now, FULL BEARDED! u Need MIC for POWERFUL INTRO… https://t.co/0UcF9m7IyJ\n",
      "RT @TransitCenter: No sign yet of Joe Lhota's @MTA performance dashboard. But grad students have stepped into the breach https://t.co/BA6iB…\n",
      "RT @TransitCenter: No sign yet of Joe Lhota's @MTA performance dashboard. But grad students have stepped into the breach https://t.co/BA6iB…\n",
      "RT @TransitCenter: No sign yet of Joe Lhota's @MTA performance dashboard. But grad students have stepped into the breach https://t.co/BA6iB…\n",
      "RT @ThimisGracias: Disabled Amtrak train getting into Penn this morning. @MTA we literally made it one day, congratulations on the new high…\n",
      "It's a new Before My Coffee!\n",
      "\n",
      "But first, a word on the @MTA\n",
      "\n",
      "https://t.co/x2c6UOLtxC https://t.co/e088hL74RK\n",
      "@MTA I've been waiting for E train for almost an hour. Where is my train??????\n",
      "Do these instructions make sense to YOU, @MTA? https://t.co/4zh1O9TTER\n",
      "RT @TransitCenter: No sign yet of Joe Lhota's @MTA performance dashboard. But grad students have stepped into the breach https://t.co/BA6iB…\n",
      "@MTA Now the train is our of service. 30 freaking minutes! I swear y'all gonna start comping me for time/money lost at work.\n",
      "Yo @mta why do y'all suck so bad!!! Been on the E train at van wyck for 25 mins. Wtf!\n",
      "@MTA get it together 🙄🙄🙄\n",
      "Hey @MTA can you fix the FUUUCKING dekalb ave subway station vending machine so I can overpay for a metro card with more ease?\n",
      "Waiting 16min for a train at 10:40am is not \"good service\" @MTA https://t.co/CsOqvduaAz\n",
      "I still don't understand how the @MTA still fcks me over even at 2 stops a day. I don't get it\n",
      "RT @TransitCenter: No sign yet of Joe Lhota's @MTA performance dashboard. But grad students have stepped into the breach https://t.co/BA6iB…\n",
      "RT @MTA: Visit https://t.co/21kezrnCXi to learn more about the new Select Bus Service on the Bx6 route that started this past weekend! http…\n",
      "Did you realize that one of the world's most iconic #brands is something 5.7 million people use daily? https://t.co/6PrIk0cQKP @MTA #design\n",
      "RT @TransitCenter: No sign yet of Joe Lhota's @MTA performance dashboard. But grad students have stepped into the breach https://t.co/BA6iB…\n",
      "I was literally out the door early and on time. Thanks to @MTA again, I am late smh\n",
      "@jessmazo @LIRR @NYGovCuomo @JoeLhota @MTA Exactly. And if a Wednesday morning is high it can only get worse.\n",
      "@MTA your mta employee at a booth refused to give me my $4 change after paying for 2 rides with $10\n",
      "hello @MTA, we need hooks on buses and trains to hang our wet umbrellas from when sitting/standing.\n",
      "@mcap814 @LIRR @NYGovCuomo @JoeLhota @MTA Totally. I also don't understand why a high volume of travelers would lea… https://t.co/ocEm3tSSth\n",
      "@jessmazo @LIRR @NYGovCuomo @JoeLhota @MTA It's the \"new normal\". They said the last train was late to to a high vo… https://t.co/OImZOQWqdo\n",
      "@TransitCenter @MTA No sign of his countdown clocks on the B division trains..oh wait they are blocked by objects\n",
      "Made it to work in 45 mins. Wow @mta mereces un premio 👏🏽👏🏽\n",
      "RT @SharedUseCntr: .@Citymapper is helping NYC users navigate @MTA delays w/ AI-driven route suggestions via @CityLab https://t.co/Q0N9XWUc…\n",
      "RT @chickenthugget: @UglyButGifted @MTA Of course 🙄🙄🙄🙄🙄🙄🙄\n",
      "@UglyButGifted @MTA Of course 🙄🙄🙄🙄🙄🙄🙄\n",
      ".@Citymapper is helping NYC users navigate @MTA delays w/ AI-driven route suggestions via @CityLab https://t.co/Q0N9XWUc0i\n",
      "@MTA ? https://t.co/Xjz88yUo55\n",
      "One day a brave enough leader will break your back @MTA so you stop holding NYC hostage of your crap. #thirdworld\n",
      "No sign yet of Joe Lhota's @MTA performance dashboard. But grad students have stepped into the breach https://t.co/BA6iBuxH2j\n",
      "@MTA WHY DO YA EVEN HAVE THE A TRAIN THIS SHIT IS WILD DUMB\n",
      "@MTA u guys are the worst. I hate u so much\n",
      "RT @6sqft: The @MTA created a mock-up of the open gangway #subway car that will eventually be integrated into the system.\n",
      "https://t.co/IrVq…\n",
      "@MTA you should be ashamed at the awful job you do. Honestly.\n",
      "@antdogs @MTA I hear all sorts of people upset that they can't get signal and then are charged the full fare plus on board penalty\n",
      "@MTA why are you so consistently trash?\n",
      "@MTA you suck\n",
      "@mta a delay behind a train means that the trains in front have to be delayed? Honestly, why are you so bad at your job?\n",
      "@MTA smh the J stays dragging 🐌 🐌🐌 wish I could pick this shit up ! 🗑🗑🗑\n",
      "RT @schnapydi: @LIRR @MTA @Amtrak  back to NORMAL service means back to shitter again! Absolute disgrace to NY! bury UR heads instd of puff…\n",
      "This is the first time I've ever witness an @MTA bus driver have road rage. I'm both petrified and intrigued as to how her day will play out\n",
      "RT @ELBardun: \"Let's get the train in the tunnel with no service so angry commuters can't tweet about our terrible service.\" - @MTA @Amtrak…\n",
      "RT @schnapydi: @LIRR @MTA @Amtrak  back to NORMAL service means back to shitter again! Absolute disgrace to NY! bury UR heads instd of puff…\n",
      "RT @jessmazo: Second day back and my train was delayed 20+ mins. Great job @lirr @NYGovCuomo @JoeLhota @MTA #lirr\n",
      "The lighting in subway cars is horrid, how am I supposed to take selfies @BilldeBlasio @MTA fix it\n",
      "@itsaSInch @MTA Yes, this is us. Thanks for contacting us. Your concerns will be passed along to our traffic safety folks.\n",
      "RT @jessmazo: Second day back and my train was delayed 20+ mins. Great job @lirr @NYGovCuomo @JoeLhota @MTA #lirr\n",
      "RT @schnapydi: @LIRR @MTA @Amtrak  back to NORMAL service means back to shitter again! Absolute disgrace to NY! bury UR heads instd of puff…\n",
      "@MTA Like today. Still sucks.\n",
      "This train stays fuckin me at 9:30 lol fuck you @MTA\n",
      "@indiedoll_ @MTA U so fine -I’ll drive from Atlanta to drive u to work !!! 😀😀😀\n",
      "Proud to be sporting my @WNYC #wetheCommuters pin. Radio can't fix the subway, but a vocal public can hold the @MTA… https://t.co/IwmJ6PYuuh\n",
      "RT @Chrishowrad: @EthanGSN @MTA *3 days later*\n",
      "@MTA: \"Hi Ethan, can you tell us which train you are on?\"\n",
      "@EthanGSN @MTA *3 days later*\n",
      "@MTA: \"Hi Ethan, can you tell us which train you are on?\"\n",
      "5 days in beautiful rural Canada and all it took was one delayed and crowded E train to piss me off. The @MTA is undefeated.\n",
      "@jessmazo @LIRR @NYGovCuomo @JoeLhota @MTA Everything is back to normal. #LIRR\n",
      "@MTA @LIRR Can you explain to me why my train this morning was 18 minutes late into Penn? Thought everything was back on schedule?!\n",
      "@LIRR @MTA @Amtrak  back to NORMAL service means back to shitter again! Absolute disgrace to NY! bury UR heads instd of puffing your chests!\n",
      "Second day back and my train was delayed 20+ mins. Great job @lirr @NYGovCuomo @JoeLhota @MTA #lirr\n",
      "So tell me again how the @mta @NYCMayor fixed our commute? https://t.co/aV9IMi8wBt\n",
      "@MTA I'm confused. It's like you're not aware that 1000s of people live in Brooklyn, work in Manhattan, and rely solely on the F train. #wtf\n",
      "@MTA I love how the conductor says Brooklyn bound Express N when we are clearly riding on the local tracks. We hear but aren't  not blind.\n",
      "@NYCTSubway @MTA metrocard charged 2x refill to CC at 15 St-Prospect Park citing error/insufficient fare, THEN ate my $20! What's going on?\n",
      "Y'all up there with @realDonaldTrump on the hate list @MTA\n",
      "This service is dead ass trash @MTA\n",
      "@MTA Supervisor not doing his job. Sitting in McDonald's and the driver comes late but no issue as Supervisor smiles\n",
      "First day really using the @MTA since high school.. and honesty everyone deserves a medal cuz idk how y'all deal with this bullshit everyday\n",
      "@MTA this is why people can't get to work on time the new Bx6-SBS service Hunts Point Ave n Bruckner Blvd. Bus wait… https://t.co/bouH2lCzGu\n",
      "@LangeDan @MTA @NYCTSubway things I don't miss about nyc/queens commuting...\n",
      "@MTA BUGGING EARLY HEARDDDDDDDD JUUU\n",
      "@michele283 @NYCTSubway @MTA Lies\n",
      "@StephGinette @MTA smfh, i let that driver know wassup. imma have to change my route cuz the m98 is too shaky\n",
      "@indiedoll_ @MTA It made me almost an hour late the other day.\n",
      "10- I'm sure you can imagine how frustrating this is @mta - for an employee to be aware of a broken machine, and according to her...\n",
      "Got 4 mins to be at work but two stops. Thanks @MTA  @NYCTSubway 🙄\n",
      "9- I paid for a monthly unlimited card, and I would like my metro card to reflect the money paid, thank you @MTA\n",
      "8- please help fix this @MTA ...let me know what you need, a picture of my receipt?\n",
      "7- why is the burden on us when we are not given the service we JUST paid for @MTA ?\n"
     ]
    }
   ],
   "source": [
    "for mta_tweet in mta_tweets:\n",
    "    print mta_tweet.text"
   ]
  },
  {
   "cell_type": "code",
   "execution_count": 40,
   "metadata": {},
   "outputs": [
    {
     "data": {
      "text/plain": [
       "0"
      ]
     },
     "execution_count": 40,
     "metadata": {},
     "output_type": "execute_result"
    }
   ],
   "source": [
    "len(mta_tweets_geo)"
   ]
  },
  {
   "cell_type": "code",
   "execution_count": 41,
   "metadata": {
    "collapsed": true
   },
   "outputs": [],
   "source": [
    "tweet0 = mta_tweets[0]"
   ]
  },
  {
   "cell_type": "code",
   "execution_count": 45,
   "metadata": {},
   "outputs": [
    {
     "data": {
      "text/plain": [
       "u'en'"
      ]
     },
     "execution_count": 45,
     "metadata": {},
     "output_type": "execute_result"
    }
   ],
   "source": [
    "tweet0.author.lang"
   ]
  },
  {
   "cell_type": "code",
   "execution_count": null,
   "metadata": {
    "collapsed": true
   },
   "outputs": [],
   "source": []
  }
 ],
 "metadata": {
  "kernelspec": {
   "display_name": "Python 2",
   "language": "python",
   "name": "python2"
  },
  "language_info": {
   "codemirror_mode": {
    "name": "ipython",
    "version": 2
   },
   "file_extension": ".py",
   "mimetype": "text/x-python",
   "name": "python",
   "nbconvert_exporter": "python",
   "pygments_lexer": "ipython2",
   "version": "2.7.10"
  }
 },
 "nbformat": 4,
 "nbformat_minor": 2
}
