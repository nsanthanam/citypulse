{
 "cells": [
  {
   "cell_type": "code",
   "execution_count": 3,
   "metadata": {
    "collapsed": true
   },
   "outputs": [],
   "source": [
    "import tweepy\n",
    "from tweepy import OAuthHandler\n",
    "import json"
   ]
  },
  {
   "cell_type": "code",
   "execution_count": 6,
   "metadata": {},
   "outputs": [],
   "source": [
    "with open('../twitter_creds.json') as t:\n",
    "    creds = json.load(t)"
   ]
  },
  {
   "cell_type": "code",
   "execution_count": 8,
   "metadata": {
    "collapsed": true
   },
   "outputs": [],
   "source": [
    "auth = OAuthHandler(creds['consumer_key'], creds['consumer_secret'])"
   ]
  },
  {
   "cell_type": "code",
   "execution_count": 9,
   "metadata": {
    "collapsed": true
   },
   "outputs": [],
   "source": [
    "auth.set_access_token(creds['access_token'], creds['access_secret'])"
   ]
  },
  {
   "cell_type": "code",
   "execution_count": 10,
   "metadata": {
    "collapsed": true
   },
   "outputs": [],
   "source": [
    "api = tweepy.API(auth)"
   ]
  },
  {
   "cell_type": "code",
   "execution_count": 12,
   "metadata": {
    "collapsed": true
   },
   "outputs": [],
   "source": [
    "api.search?"
   ]
  },
  {
   "cell_type": "code",
   "execution_count": 11,
   "metadata": {},
   "outputs": [
    {
     "name": "stdout",
     "output_type": "stream",
     "text": [
      "Glad you finally figured it out, boss... https://t.co/RR7Bwagtz8\n",
      "RT @THR: George Clooney reveals what @BarackObama texts him: https://t.co/zNgzxCAbvm https://t.co/JQWtloVoU5\n",
      "RT @digvijaya_28: Shocking to see PM following such elements who are spreading hatred and venom which encourages such people to commit viol…\n",
      "RT @jagtaryadav: @republic @Swamy39 @DrKumarVishwas @myogiadityanath https://t.co/rW9tz5kH7P\n",
      "RT @sunetrac: In this article,. #GauriLankesh voices concern about how @malviyamit was using her case to warn other journos https://t.co/m7…\n",
      "RT @AbhinandanSekhr: You know we've fallen off a cliff when RSS \"ideologue\" won't condemn BJP leaders following abusive twitter handles &amp; i…\n",
      "Shocker. @RakeshSinha01 totally refused to condemn the reprehensible tweet by an account followed by PM,despite @Nidhi repeatedly asking him\n",
      "RT @CNBCnow: More: Read Fed Vice Chair Fischer's letter to President Trump informing him of his intended resignation. https://t.co/WJXw3g8U…\n",
      "RT @HuffPostIndia: Here’s the best investment tool—noise-cancelling headphones, by @cleartax_in https://t.co/Y6ITD1BDJ2 https://t.co/BzzHsB…\n",
      "Well done and good luck in your efforts @Shehzad_Ind ! #EndCowVigilantism https://t.co/xYaGWhXrIL\n"
     ]
    }
   ],
   "source": [
    "for status in tweepy.Cursor(api.home_timeline).items(10):\n",
    "    # Process a single status\n",
    "    print(status.text)"
   ]
  },
  {
   "cell_type": "code",
   "execution_count": null,
   "metadata": {
    "collapsed": true
   },
   "outputs": [],
   "source": []
  }
 ],
 "metadata": {
  "kernelspec": {
   "display_name": "Python 2",
   "language": "python",
   "name": "python2"
  },
  "language_info": {
   "codemirror_mode": {
    "name": "ipython",
    "version": 2
   },
   "file_extension": ".py",
   "mimetype": "text/x-python",
   "name": "python",
   "nbconvert_exporter": "python",
   "pygments_lexer": "ipython2",
   "version": "2.7.10"
  }
 },
 "nbformat": 4,
 "nbformat_minor": 2
}
